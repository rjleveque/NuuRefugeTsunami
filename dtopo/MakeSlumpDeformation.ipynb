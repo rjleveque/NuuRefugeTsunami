{
 "cells": [
  {
   "cell_type": "markdown",
   "id": "fbfc3dc7",
   "metadata": {},
   "source": [
    "# Make Slump Deformation\n",
    "\n",
    "Supplementary material for the paper *Hawaiian legends of coastal devastation and paleotsunami reconstruction, Nuʻu, Kaupō, Maui, Hawaiʻi.,* by\n",
    "Scott Fisher, James Goff, Andrew Cundy, David Sear, James Terry Randall J LeVeque, and Loyce M Adams.  (Submitted for publication, April 2024).\n",
    "\n",
    "This notebook explains how the landslide slump deformation used in the GeoClaw tsunami model was defined. It uses a number of Python tools from [GeoClaw](http://www.geoclaw.org) that are not described in detail here.  For information on these tools and on installing Clawpack, the open source package that includes GeoClaw, see www.clawpack.org.\n",
    "\n",
    "This Jupyter notebook and and the GeoClaw code for running the tsunami simulations shown in the paper can be found at https://github.com/rjleveque/NuuRefugeTsunami.\n"
   ]
  },
  {
   "cell_type": "markdown",
   "id": "78eb0c18-a110-498e-b6f4-55d3767f978b",
   "metadata": {},
   "source": [
    "### Set up the notebook and import various packages:"
   ]
  },
  {
   "cell_type": "code",
   "execution_count": null,
   "id": "f5dce659",
   "metadata": {},
   "outputs": [],
   "source": [
    "%matplotlib inline"
   ]
  },
  {
   "cell_type": "code",
   "execution_count": null,
   "id": "e7f67ac3",
   "metadata": {},
   "outputs": [],
   "source": [
    "from pylab import *\n",
    "from clawpack.geoclaw import util,topotools,dtopotools\n",
    "from clawpack.visclaw import colormaps, animation_tools\n",
    "from scipy.interpolate import RegularGridInterpolator, griddata\n",
    "from IPython.display import HTML\n",
    "import warnings\n",
    "warnings.filterwarnings(\"ignore\")"
   ]
  },
  {
   "cell_type": "markdown",
   "id": "e058506d-5562-40a7-844b-0efed1f3db87",
   "metadata": {},
   "source": [
    "The GeoClaw software requires one or more topography DEMs (topo files) to specify the underlying topography.  In addition, a \"dtopo file\" can be provided that gives changes to the topography at a series of times, as described in [the documentation](https://www.clawpack.org/topo.html#topography-displacement-files).\n",
    "\n",
    "The approach used here is to specify the slump as a dipolar source that has a positive hump on the up-slope side and a negative hole on the down-slope side, which relaxes to zero over some time interval so that in effect the mass is transfered from the hump to the hole.  This dtopo function is added to the underlying topography, so that at the initial time t0 the topography is deformed and at the end of the slump duration it agrees with the topography specified by the present-day DEM.\n",
    "\n",
    "This same approach has been used in several other papers.  See for example the citations from our paper to Okal and Hebert, 2007, Tappin et al. 2007, Watts et al. 2005, Fryer et al. 2004, Synolakis et al. 2002. We use a similar dipolar slump shape.\n",
    "\n",
    "We first create this source with the desired dimensions specified in meters, and with the slump aligned with the x-axis.  Then we can convert it to longitude-latitude coordinates and place it where desired on the topography.  The resulting deformation at a sequence of times is then evaluated on a specified uniform rectantular grid in [UTM coordinates](https://en.wikipedia.org/wiki/Universal_Transverse_Mercator_coordinate_system), and saved as a \"dtopo file\" for GeoClaw."
   ]
  },
  {
   "cell_type": "markdown",
   "id": "ef2f4c97-71a1-4902-938a-ab7c9e829cde",
   "metadata": {},
   "source": [
    "Scroll to the bottom of this notebook to see the slump contours plots along with the topography."
   ]
  },
  {
   "cell_type": "markdown",
   "id": "5f6736ab-c85b-45b0-ad0d-5c0b34e90efe",
   "metadata": {},
   "source": [
    "### Specify the variation in the x direction along the centerline:\n",
    "\n",
    "This shows the dipolar source along the x-axis. This will then be tapered in the y-direction to give a positive hump and negative hole."
   ]
  },
  {
   "cell_type": "code",
   "execution_count": null,
   "id": "7596cddd",
   "metadata": {},
   "outputs": [],
   "source": [
    "L = 3e3  # length in meters\n",
    "A = 10.  # amplitude (approximate) in meters\n",
    "\n",
    "slump_profile = lambda x: 2*A*where(abs(x)<L, sin(x*pi/L)/cosh(2.5*x/L)**2, 0.)\n",
    "\n",
    "figure(figsize=(8,4))\n",
    "xm = linspace(-L, L, 500)\n",
    "plot(xm, slump_profile(xm),'b')\n",
    "grid(True)\n",
    "xlabel('x (meters)')\n",
    "ylabel('vertical deformation (m)')\n",
    "title('Slump profile')"
   ]
  },
  {
   "cell_type": "markdown",
   "id": "069db630-8827-46e1-9e7e-6c040c1cbf33",
   "metadata": {},
   "source": [
    "### Taper in y\n",
    "The function shown above is now multiplied by a function $sech^2(3y/W)$ that tapers this down in the y-direction. "
   ]
  },
  {
   "cell_type": "code",
   "execution_count": null,
   "id": "2591bd55-0e6c-4476-a3db-674dc74ab47a",
   "metadata": {},
   "outputs": [],
   "source": [
    "W = L    # width\n",
    "ytaper = lambda y:  (1./cosh(3*(y)/W))**2\n",
    "ym = linspace(-W,W,501)\n",
    "\n",
    "figure(figsize=(8,4))\n",
    "plot(ym, ytaper(ym), 'b')\n",
    "grid(True)\n",
    "xlabel('y (meters)')\n",
    "ylabel('nondimensional')\n",
    "title('Taper in y');"
   ]
  },
  {
   "cell_type": "markdown",
   "id": "35f586f1-6228-49a8-88c6-022858306323",
   "metadata": {},
   "source": [
    "# Plot how the initial slump deformation looks\n",
    "\n",
    "The initial dtopo is the product `slump_profile(x) * ytaper(y)`, shown below on a contour plot after evaluating it on a 2D grid of points:\n",
    "\n",
    "In this plot, `(x,y)` are in meters and the slump is aligned with the x-axis:"
   ]
  },
  {
   "cell_type": "code",
   "execution_count": null,
   "id": "f72ed833-eeea-42bc-8fde-52a07d45e67d",
   "metadata": {},
   "outputs": [],
   "source": [
    "Xm,Ym = meshgrid(xm,ym)\n",
    "Zm0 = slump_profile(Xm) * ytaper(Ym)\n",
    "pcolormesh(Xm,Ym,Zm0,cmap=colormaps.blue_white_red)\n",
    "clim(-15,15)\n",
    "colorbar();\n",
    "contour(Xm,Ym,Zm0,linspace(-20,20,20),colors='k');\n",
    "axis('equal')\n",
    "xlabel('x (meters)')\n",
    "ylabel('y (meters)')\n",
    "title('Initial slump deformation in x-y plane');"
   ]
  },
  {
   "cell_type": "markdown",
   "id": "24e665a9-79ef-48b1-ba3f-548dc3955e57",
   "metadata": {},
   "source": [
    "## Slump placement on UTM grid\n"
   ]
  },
  {
   "cell_type": "markdown",
   "id": "3ea73a6c-ef77-4660-aed6-2ceced9fecf5",
   "metadata": {},
   "source": [
    "We chose a slump location based on the local offshore topography near Nu'u, to be at a spot where the topography is somewhat steep.  The point (0,0) in the plots shown above will be mapped to the location \n",
    "`(x0,y0)` specified below. "
   ]
  },
  {
   "cell_type": "code",
   "execution_count": null,
   "id": "9cb808c9-38ff-43a3-ae7c-d764bceb86a9",
   "metadata": {},
   "outputs": [],
   "source": [
    "x0 = -156.2  # longitude\n",
    "y0 = 20.59   # latitude"
   ]
  },
  {
   "cell_type": "markdown",
   "id": "04f97a00-f483-4798-aee1-43f12cf23fb6",
   "metadata": {},
   "source": [
    "We assume the slump dimensions are small enough that linearizing the transformation from meters to degrees about the center point `(x0,y0)` is sufficient.  Define factors to map `dx` in degrees to `dx` in meters and similarly in y:"
   ]
  },
  {
   "cell_type": "code",
   "execution_count": null,
   "id": "44429649-369d-4392-bb0b-a9960c020c53",
   "metadata": {},
   "outputs": [],
   "source": [
    "Rearth = 6367500. # radius of earth\n",
    "LON2M = Rearth*pi/180 * cos(y0*pi/180)\n",
    "LAT2M = Rearth*pi/180"
   ]
  },
  {
   "cell_type": "markdown",
   "id": "3da42a34-1c83-49cb-9843-0e01c6350da4",
   "metadata": {},
   "source": [
    "Compute a bearing vector `(bx,by)` that points in the desired direction of the slump axis.  Here we take this to be the direction from `(x0,y0)`, the slump center to `(x_nuu, y_nuu)`, a point near the Nu'u Refuge on Maui. This vector is converted to meters and normalized to have length 1.  "
   ]
  },
  {
   "cell_type": "code",
   "execution_count": null,
   "id": "cf225477-1702-4e72-b75e-83fe04ec7187",
   "metadata": {},
   "outputs": [],
   "source": [
    "x_nuu = -156.187\n",
    "y_nuu = 20.6275\n",
    "\n",
    "theta = util.bearing(x0,y0,x_nuu,y_nuu,bearing_units='degrees')\n",
    "theta = theta - 90 # rotation angle (not used below)\n",
    "print('Rotation angle: %.1f degrees clockwise' % theta)\n",
    "\n",
    "bx = (x_nuu - x0) * LON2M\n",
    "by = (y_nuu - y0) * LAT2M\n",
    "bb = sqrt(bx**2 + by**2)\n",
    "bx = bx/bb\n",
    "by = by/bb\n",
    "print('Bearing vector b in meters: (%.3f, %.3f)' % (bx,by))\n",
    "angle = -arctan(by/bx) * 180/pi\n",
    "print('Angle computed from b vector: %.1f' % angle)"
   ]
  },
  {
   "cell_type": "markdown",
   "id": "75eb7a55-b993-41a6-8b76-cac8ae072c8b",
   "metadata": {},
   "source": [
    "### Create uniform UTM grid on which to evaluate the slump, as needed in GeoClaw:"
   ]
  },
  {
   "cell_type": "code",
   "execution_count": null,
   "id": "ec3cc0cc-041a-4eed-8b11-96df4bccc9f1",
   "metadata": {},
   "outputs": [],
   "source": [
    "# Choose a rectangle large enough to contain the slump:\n",
    "slump_radius = sqrt(L**2 + W**2)\n",
    "x1 = x0 - slump_radius / LON2M\n",
    "x2 = x0 + slump_radius / LON2M\n",
    "y1 = y0 - slump_radius / LAT2M\n",
    "y2 = y0 + slump_radius / LAT2M\n",
    "dx = dy = 1/3600.\n",
    "\n",
    "x = arange(x1,x2+dx/2,dx)\n",
    "y = arange(y1,y2+dy/2,dy)\n",
    "X,Y = meshgrid(x,y)\n",
    "\n",
    "print('Will evaluate slump on grid of dimensions ', X.shape)\n",
    "print('For %.4f <= x <= %.4f and %.4f <= x <= %.4f' % (x1,x2,y1,y2))\n",
    "print('With grid resolution %.3f arcseconds' % (dx*3600))"
   ]
  },
  {
   "cell_type": "markdown",
   "id": "fdbcc805-a003-4355-aa68-e5176daa840b",
   "metadata": {},
   "source": [
    "Now convert the points `(X,Y)` on the UTM grid to distances (meters) from `(x0,y0)` and project onto the bearing vector and the perpendicular vector in order to compute `(Xm,Ym)`, distances along these two directions:"
   ]
  },
  {
   "cell_type": "code",
   "execution_count": null,
   "id": "e53dc198-144a-4250-abf4-14a6d67c5fa4",
   "metadata": {},
   "outputs": [],
   "source": [
    "dX0 = (X-x0) * LON2M\n",
    "dY0 = (Y-y0) * LAT2M\n",
    "Xm = bx*dX0 + by*dY0\n",
    "Ym = by*dX0 - bx*dY0"
   ]
  },
  {
   "cell_type": "markdown",
   "id": "870551c8-eab7-418d-b294-5aee2ba2a103",
   "metadata": {},
   "source": [
    "The initial slump shape can now be evaluated based on these distances:"
   ]
  },
  {
   "cell_type": "code",
   "execution_count": null,
   "id": "2f598f70-1cc7-40f0-874f-bc37c85a1ae1",
   "metadata": {},
   "outputs": [],
   "source": [
    "dZ0 = slump_profile(Xm) * ytaper(Ym)"
   ]
  },
  {
   "cell_type": "markdown",
   "id": "52821464-0dc0-4bd3-9695-d7c11bde5023",
   "metadata": {},
   "source": [
    "Plot the initial slump shape"
   ]
  },
  {
   "cell_type": "code",
   "execution_count": null,
   "id": "e8a06701-8232-4bb4-9b6f-3611121edd1d",
   "metadata": {},
   "outputs": [],
   "source": [
    "fig,ax = subplots()\n",
    "pcolormesh(X,Y,dZ0,cmap=colormaps.blue_white_red)\n",
    "clim(-15,15)\n",
    "colorbar();\n",
    "contour(X,Y,dZ0,linspace(-20,20,20),colors='k');\n",
    "ax.set_aspect(1/cos(y0*pi/180))\n",
    "xticks(rotation=20)\n",
    "xlabel('x (longitude)')\n",
    "ylabel('y (latitude)')\n",
    "title('Initial slump deformation');"
   ]
  },
  {
   "cell_type": "markdown",
   "id": "f68efb94-37a6-4a06-b415-c7c67cbb17e4",
   "metadata": {},
   "source": [
    "## Create dtopo file for progressive slump\n",
    "\n",
    "First make dZ at a set of times going from maximum displacment at time 0 to zero displacement at final time (so that final topo agrees with topofile).  As in other models, use decay in time given by $(cos(\\pi t/T) + 1)/2$ for $0 \\leq t \\leq T$, where $T$ is the final time."
   ]
  },
  {
   "cell_type": "code",
   "execution_count": null,
   "id": "37d312f0-93f7-4360-8c2b-381a73551889",
   "metadata": {},
   "outputs": [],
   "source": [
    "Tfinal = 30 # seconds\n",
    "ntimes = 16\n",
    "times = linspace(0,Tfinal,ntimes)\n",
    "dZshape = (ntimes,X.shape[0],X.shape[1])\n",
    "dZ = empty(dZshape)\n",
    "ampl = 0.5*(cos(pi*times/Tfinal) + 1)\n",
    "for k in range(ntimes):\n",
    "    dZ[k,:,:] = ampl[k] * dZ0\n",
    "\n",
    "figure(figsize=(5,3))\n",
    "plot(times,ampl)\n",
    "xlim(0,Tfinal)\n",
    "title('Decay of slump in time')\n",
    "xlabel('t (seconds)')\n",
    "grid(True);"
   ]
  },
  {
   "cell_type": "code",
   "execution_count": null,
   "id": "d2032525-14ef-493e-a451-7aab9bfaa85e",
   "metadata": {},
   "outputs": [],
   "source": [
    "# create dtopo object:\n",
    "dtopo_slump = dtopotools.DTopography()\n",
    "dtopo_slump.dZ = dZ\n",
    "dtopo_slump.X = X\n",
    "dtopo_slump.Y = Y\n",
    "dtopo_slump.times = times\n",
    "dtopo_slump.delta = (dx,dy)"
   ]
  },
  {
   "cell_type": "markdown",
   "id": "2fe8cbbc-69be-4292-8cf5-34c392685038",
   "metadata": {},
   "source": [
    "### Plot displacment on topo:\n",
    "\n",
    "Download topography from the [Hawaii 6 arcsecond coastal DEM](https://www.ncei.noaa.gov/metadata/geoportal/rest/metadata/item/gov.noaa.ngdc.mgg.dem:460/html) and plot the slump contours on the topography:"
   ]
  },
  {
   "cell_type": "code",
   "execution_count": null,
   "id": "23fb60ed-181e-4f41-80fa-06204a8961e9",
   "metadata": {},
   "outputs": [],
   "source": [
    "url = 'https://www.ngdc.noaa.gov/thredds/dodsC/regional/hawaii_6_mllw_2005.nc'\n",
    "extent = [-156.28,-156.12,20.55,20.7]\n",
    "topo6s = topotools.read_netcdf(url, extent=extent, coarsen=1, verbose=True)"
   ]
  },
  {
   "cell_type": "code",
   "execution_count": null,
   "id": "9084ca34-3141-44a6-b974-db1eaab9b60e",
   "metadata": {},
   "outputs": [],
   "source": [
    "fig,ax = subplots(figsize=(8,7))\n",
    "topo6s.plot(axes=ax, contour_levels=arange(-1500,200,100))\n",
    "dtopo_slump.plot_dZ_contours(5,dZ_interval = 2,axes=ax)\n",
    "plot([-156.187],[20.6275],'ro',markersize=5)\n",
    "title(\"Initial slump deformation and Nu'u (red dot)\\n\" \\\n",
    "      + \"with 2m contours (100m topo contours)\");\n",
    "#savefig('slump_topo.png')"
   ]
  },
  {
   "cell_type": "markdown",
   "id": "6124f3bb-959a-4ab9-b991-941d957b872f",
   "metadata": {},
   "source": [
    "### Write dtopo file for this slump and scaled versions:"
   ]
  },
  {
   "cell_type": "code",
   "execution_count": null,
   "id": "e03836f1-5f6c-4947-918f-c79b8a7e44dc",
   "metadata": {},
   "outputs": [],
   "source": [
    "dZ10m = dtopo_slump.dZ.copy()  # make a copy of the 10m amplitude dZ array\n",
    "for ampl in [5,15,10]:\n",
    "    dtopo_slump.dZ = (ampl/10.) * dZ10m\n",
    "    fname_dtopo = 'slump_%sm.dtt3' % str(int(ampl)).zfill(2)\n",
    "    dtopo_slump.write(fname_dtopo, dtopo_type=3)\n",
    "    print('Created ',fname_dtopo)"
   ]
  },
  {
   "cell_type": "markdown",
   "id": "41388b81-86a8-403b-a5e4-177fcbaae22b",
   "metadata": {},
   "source": [
    "### Make animation of slump behavior:"
   ]
  },
  {
   "cell_type": "code",
   "execution_count": null,
   "id": "62b8fe49-d019-4f96-8ca9-24ae6f6d1dc3",
   "metadata": {},
   "outputs": [],
   "source": [
    "figs = []\n",
    "for k,tplot in enumerate(dtopo_slump.times[:-1]):\n",
    "    fig,ax = subplots()\n",
    "    dZ_interval = 0.1*A\n",
    "    dtopo_slump.plot_dZ_colors(t=tplot,axes=ax,cmax_dZ=A, dZ_interval=dZ_interval)\n",
    "    ticklabel_format(style='plain',useOffset=False)\n",
    "    xticks(rotation=20);\n",
    "    ax.set_aspect(1/cos(y0*pi/180))\n",
    "    title('Slump deformation at time t = %.1f seconds\\n Contour interval %.1f m' % (tplot,dZ_interval))\n",
    "    figs.append(fig)\n",
    "    close(fig)\n",
    "\n",
    "images = animation_tools.make_images(figs)\n",
    "anim = animation_tools.animate_images(images, figsize=(6,5))\n",
    "animation_tools.make_mp4(anim, file_name='slump_10m.mp4')"
   ]
  },
  {
   "cell_type": "markdown",
   "id": "f8d731e7-0469-4596-ad65-9dce6cfebbd3",
   "metadata": {},
   "source": [
    "The resulting animation is archived with supplementary information for the paper, as the mpeg file `slump_10m.mp4`.\n",
    "\n",
    "You can also view the animation here if you are running the notebook live, or viewing an html rendered version:"
   ]
  },
  {
   "cell_type": "code",
   "execution_count": null,
   "id": "af67a40f-d96b-4b4a-87f8-0b8926470ea5",
   "metadata": {},
   "outputs": [],
   "source": [
    "HTML(anim.to_jshtml())"
   ]
  },
  {
   "cell_type": "code",
   "execution_count": null,
   "id": "d75dbb5c-c2e2-48fe-9bb2-b90ce135fd6a",
   "metadata": {},
   "outputs": [],
   "source": []
  }
 ],
 "metadata": {
  "kernelspec": {
   "display_name": "Python 3 (ipykernel)",
   "language": "python",
   "name": "python3"
  },
  "language_info": {
   "codemirror_mode": {
    "name": "ipython",
    "version": 3
   },
   "file_extension": ".py",
   "mimetype": "text/x-python",
   "name": "python",
   "nbconvert_exporter": "python",
   "pygments_lexer": "ipython3",
   "version": "3.10.13"
  }
 },
 "nbformat": 4,
 "nbformat_minor": 5
}
